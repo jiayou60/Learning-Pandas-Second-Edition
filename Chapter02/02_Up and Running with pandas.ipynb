{
  "nbformat": 4,
  "nbformat_minor": 0,
  "metadata": {
    "anaconda-cloud": {},
    "kernelspec": {
      "display_name": "Python 3",
      "language": "python",
      "name": "python3"
    },
    "language_info": {
      "codemirror_mode": {
        "name": "ipython",
        "version": 3
      },
      "file_extension": ".py",
      "mimetype": "text/x-python",
      "name": "python",
      "nbconvert_exporter": "python",
      "pygments_lexer": "ipython3",
      "version": "3.6.1"
    },
    "colab": {
      "name": "02_Up and Running with pandas.ipynb",
      "provenance": []
    }
  },
  "cells": [
    {
      "cell_type": "markdown",
      "metadata": {
        "id": "zzNtziCcnEMJ"
      },
      "source": [
        "# Configuring pandas"
      ]
    },
    {
      "cell_type": "code",
      "metadata": {
        "id": "gk7BdOq-nEMP"
      },
      "source": [
        "# import numpy and pandas\n",
        "import numpy as np\n",
        "import pandas as pd\n",
        "\n",
        "# used for dates\n",
        "import datetime\n",
        "from datetime import datetime, date\n",
        "\n",
        "# Set some pandas options controlling output format\n",
        "pd.set_option('display.notebook_repr_html', False)\n",
        "pd.set_option('display.max_columns', 8)\n",
        "pd.set_option('display.max_rows', 10)\n",
        "pd.set_option('display.width', 80)\n",
        "\n",
        "# bring in matplotlib for graphics\n",
        "import matplotlib.pyplot as plt\n",
        "%matplotlib inline"
      ],
      "execution_count": 1,
      "outputs": []
    },
    {
      "cell_type": "markdown",
      "metadata": {
        "id": "G94deRronEMQ"
      },
      "source": [
        "# The pandas Series"
      ]
    },
    {
      "cell_type": "code",
      "metadata": {
        "colab": {
          "base_uri": "https://localhost:8080/"
        },
        "id": "aUAtSMyYnEMQ",
        "outputId": "b008047f-4a5b-4d46-9517-27347447dcc2"
      },
      "source": [
        "# create a four item Series\n",
        "s = pd.Series([1, 2, 3, 4])\n",
        "s"
      ],
      "execution_count": 2,
      "outputs": [
        {
          "output_type": "execute_result",
          "data": {
            "text/plain": [
              "0    1\n",
              "1    2\n",
              "2    3\n",
              "3    4\n",
              "dtype: int64"
            ]
          },
          "metadata": {
            "tags": []
          },
          "execution_count": 2
        }
      ]
    },
    {
      "cell_type": "code",
      "metadata": {
        "colab": {
          "base_uri": "https://localhost:8080/"
        },
        "id": "MLokkWx6nEMR",
        "outputId": "3b177d2c-085d-40ec-df7b-79b950390d0d"
      },
      "source": [
        "# get value at label 1\n",
        "s[1]"
      ],
      "execution_count": 3,
      "outputs": [
        {
          "output_type": "execute_result",
          "data": {
            "text/plain": [
              "2"
            ]
          },
          "metadata": {
            "tags": []
          },
          "execution_count": 3
        }
      ]
    },
    {
      "cell_type": "code",
      "metadata": {
        "colab": {
          "base_uri": "https://localhost:8080/"
        },
        "id": "qVSIjvn_nEMR",
        "outputId": "80c1c795-7ba9-4d9e-d52c-950f8b9b589c"
      },
      "source": [
        "# return a Series with the row with labels 1 and 3\n",
        "s[[1, 3]]"
      ],
      "execution_count": 4,
      "outputs": [
        {
          "output_type": "execute_result",
          "data": {
            "text/plain": [
              "1    2\n",
              "3    4\n",
              "dtype: int64"
            ]
          },
          "metadata": {
            "tags": []
          },
          "execution_count": 4
        }
      ]
    },
    {
      "cell_type": "code",
      "metadata": {
        "colab": {
          "base_uri": "https://localhost:8080/"
        },
        "id": "ntRqRgPxpJD_",
        "outputId": "81486595-9358-4936-fc12-1234df8f05b5"
      },
      "source": [
        "type(s[[1, 3]])"
      ],
      "execution_count": 5,
      "outputs": [
        {
          "output_type": "execute_result",
          "data": {
            "text/plain": [
              "pandas.core.series.Series"
            ]
          },
          "metadata": {
            "tags": []
          },
          "execution_count": 5
        }
      ]
    },
    {
      "cell_type": "code",
      "metadata": {
        "colab": {
          "base_uri": "https://localhost:8080/"
        },
        "id": "rDYQIcpenEMS",
        "outputId": "cc03802a-b3cf-4200-aed6-c5243e358b1a"
      },
      "source": [
        "# create a series using an explicit index\n",
        "s = pd.Series([1, 2, 3, 4], \n",
        "               index = ['a', 'b', 'c', 'd'])\n",
        "s"
      ],
      "execution_count": 6,
      "outputs": [
        {
          "output_type": "execute_result",
          "data": {
            "text/plain": [
              "a    1\n",
              "b    2\n",
              "c    3\n",
              "d    4\n",
              "dtype: int64"
            ]
          },
          "metadata": {
            "tags": []
          },
          "execution_count": 6
        }
      ]
    },
    {
      "cell_type": "code",
      "metadata": {
        "colab": {
          "base_uri": "https://localhost:8080/"
        },
        "id": "gPPle-iSnEMS",
        "outputId": "925ca9bc-e3ce-457f-b3cd-b2bb894f6b1a"
      },
      "source": [
        "# look up items the series having index 'a' and 'd'\n",
        "s[['a', 'd']]"
      ],
      "execution_count": 7,
      "outputs": [
        {
          "output_type": "execute_result",
          "data": {
            "text/plain": [
              "a    1\n",
              "d    4\n",
              "dtype: int64"
            ]
          },
          "metadata": {
            "tags": []
          },
          "execution_count": 7
        }
      ]
    },
    {
      "cell_type": "code",
      "metadata": {
        "colab": {
          "base_uri": "https://localhost:8080/"
        },
        "id": "03wAwL3TnEMS",
        "outputId": "dcf63ac9-c162-47f4-b460-5d7e974918cc"
      },
      "source": [
        "# passing a list of integers to a Series that has\n",
        "# non-integer index labels will look up based upon\n",
        "# 0-based index like an array\n",
        "s[[1, 2]]"
      ],
      "execution_count": 8,
      "outputs": [
        {
          "output_type": "execute_result",
          "data": {
            "text/plain": [
              "b    2\n",
              "c    3\n",
              "dtype: int64"
            ]
          },
          "metadata": {
            "tags": []
          },
          "execution_count": 8
        }
      ]
    },
    {
      "cell_type": "code",
      "metadata": {
        "colab": {
          "base_uri": "https://localhost:8080/"
        },
        "id": "R391MtbXnEMT",
        "outputId": "a6a68f15-13ad-47a6-b6e5-c23e54e4b666"
      },
      "source": [
        "# get only the index of the Series\n",
        "s.index"
      ],
      "execution_count": 9,
      "outputs": [
        {
          "output_type": "execute_result",
          "data": {
            "text/plain": [
              "Index(['a', 'b', 'c', 'd'], dtype='object')"
            ]
          },
          "metadata": {
            "tags": []
          },
          "execution_count": 9
        }
      ]
    },
    {
      "cell_type": "code",
      "metadata": {
        "colab": {
          "base_uri": "https://localhost:8080/"
        },
        "id": "BdAmUr9XnEMT",
        "outputId": "08de2c9f-f0a8-4853-d752-29bead306937"
      },
      "source": [
        "# create a Series who's index is a series of dates\n",
        "# between the two specified dates (inclusive)\n",
        "dates = pd.date_range('2016-04-01', '2016-04-06')\n",
        "dates"
      ],
      "execution_count": 10,
      "outputs": [
        {
          "output_type": "execute_result",
          "data": {
            "text/plain": [
              "DatetimeIndex(['2016-04-01', '2016-04-02', '2016-04-03', '2016-04-04',\n",
              "               '2016-04-05', '2016-04-06'],\n",
              "              dtype='datetime64[ns]', freq='D')"
            ]
          },
          "metadata": {
            "tags": []
          },
          "execution_count": 10
        }
      ]
    },
    {
      "cell_type": "code",
      "metadata": {
        "colab": {
          "base_uri": "https://localhost:8080/"
        },
        "id": "sf9g1o2fnEMT",
        "outputId": "c29bb5d5-c4e1-4670-d2e2-1225f80cf992"
      },
      "source": [
        "# create a Series with values (representing temperatures)\n",
        "# for each date in the index\n",
        "temps1 = pd.Series([80, 82, 85, 90, 83, 87], \n",
        "                   index = dates)\n",
        "temps1"
      ],
      "execution_count": 11,
      "outputs": [
        {
          "output_type": "execute_result",
          "data": {
            "text/plain": [
              "2016-04-01    80\n",
              "2016-04-02    82\n",
              "2016-04-03    85\n",
              "2016-04-04    90\n",
              "2016-04-05    83\n",
              "2016-04-06    87\n",
              "Freq: D, dtype: int64"
            ]
          },
          "metadata": {
            "tags": []
          },
          "execution_count": 11
        }
      ]
    },
    {
      "cell_type": "code",
      "metadata": {
        "colab": {
          "base_uri": "https://localhost:8080/"
        },
        "id": "jvRPD1MMnEMU",
        "outputId": "b86528dd-0efe-43c6-f604-6395bb2a3928"
      },
      "source": [
        "# what's the temperation for 2016-4-4?\n",
        "temps1['2016-04-04']"
      ],
      "execution_count": 12,
      "outputs": [
        {
          "output_type": "execute_result",
          "data": {
            "text/plain": [
              "90"
            ]
          },
          "metadata": {
            "tags": []
          },
          "execution_count": 12
        }
      ]
    },
    {
      "cell_type": "code",
      "metadata": {
        "colab": {
          "base_uri": "https://localhost:8080/"
        },
        "id": "87MfRvJRnEMU",
        "outputId": "ea13d97d-3e54-4c61-c726-f2f9f1836d60"
      },
      "source": [
        "# create a second series of values using the same index\n",
        "temps2 = pd.Series([70, 75, 69, 83, 79, 77], \n",
        "                   index = dates)\n",
        "# the following aligns the two by their index values\n",
        "# and calculates the difference at those matching labels\n",
        "temp_diffs = temps1 - temps2\n",
        "temp_diffs"
      ],
      "execution_count": 13,
      "outputs": [
        {
          "output_type": "execute_result",
          "data": {
            "text/plain": [
              "2016-04-01    10\n",
              "2016-04-02     7\n",
              "2016-04-03    16\n",
              "2016-04-04     7\n",
              "2016-04-05     4\n",
              "2016-04-06    10\n",
              "Freq: D, dtype: int64"
            ]
          },
          "metadata": {
            "tags": []
          },
          "execution_count": 13
        }
      ]
    },
    {
      "cell_type": "code",
      "metadata": {
        "colab": {
          "base_uri": "https://localhost:8080/"
        },
        "id": "JyfIFhP3nEMU",
        "outputId": "95854c25-3909-4549-bf49-25943127309f"
      },
      "source": [
        "# and also possible by integer position as if the \n",
        "# series was an array\n",
        "temp_diffs[2]"
      ],
      "execution_count": 14,
      "outputs": [
        {
          "output_type": "execute_result",
          "data": {
            "text/plain": [
              "16"
            ]
          },
          "metadata": {
            "tags": []
          },
          "execution_count": 14
        }
      ]
    },
    {
      "cell_type": "code",
      "metadata": {
        "colab": {
          "base_uri": "https://localhost:8080/"
        },
        "id": "YkQZ4XognEMV",
        "outputId": "91c488a2-9d83-4e90-aaa9-2f8748b28813"
      },
      "source": [
        "# calculate the mean of the values in the Series\n",
        "temp_diffs.mean()"
      ],
      "execution_count": 15,
      "outputs": [
        {
          "output_type": "execute_result",
          "data": {
            "text/plain": [
              "9.0"
            ]
          },
          "metadata": {
            "tags": []
          },
          "execution_count": 15
        }
      ]
    },
    {
      "cell_type": "markdown",
      "metadata": {
        "collapsed": true,
        "id": "jVodoSr5nEMV"
      },
      "source": [
        "# The pandas DataFrame"
      ]
    },
    {
      "cell_type": "code",
      "metadata": {
        "colab": {
          "base_uri": "https://localhost:8080/"
        },
        "id": "kt-bxYz2nEMV",
        "outputId": "e576822d-5e90-4dcd-b1d0-846a3e05d638"
      },
      "source": [
        "# create a DataFrame from the two series objects temp1 and temp2\n",
        "# and give them column names\n",
        "temps_df = pd.DataFrame(\n",
        "            {'Missoula': temps1, \n",
        "             'Philadelphia': temps2})\n",
        "temps_df"
      ],
      "execution_count": 17,
      "outputs": [
        {
          "output_type": "execute_result",
          "data": {
            "text/plain": [
              "            Missoula  Philadelphia\n",
              "2016-04-01        80            70\n",
              "2016-04-02        82            75\n",
              "2016-04-03        85            69\n",
              "2016-04-04        90            83\n",
              "2016-04-05        83            79\n",
              "2016-04-06        87            77"
            ]
          },
          "metadata": {
            "tags": []
          },
          "execution_count": 17
        }
      ]
    },
    {
      "cell_type": "code",
      "metadata": {
        "colab": {
          "base_uri": "https://localhost:8080/"
        },
        "id": "2YMjAUM3nEMV",
        "outputId": "1e9a313e-503b-485d-dd0a-0041720417ec"
      },
      "source": [
        "# get the column with the name Missoula\n",
        "temps_df['Missoula']"
      ],
      "execution_count": 18,
      "outputs": [
        {
          "output_type": "execute_result",
          "data": {
            "text/plain": [
              "2016-04-01    80\n",
              "2016-04-02    82\n",
              "2016-04-03    85\n",
              "2016-04-04    90\n",
              "2016-04-05    83\n",
              "2016-04-06    87\n",
              "Freq: D, Name: Missoula, dtype: int64"
            ]
          },
          "metadata": {
            "tags": []
          },
          "execution_count": 18
        }
      ]
    },
    {
      "cell_type": "code",
      "metadata": {
        "colab": {
          "base_uri": "https://localhost:8080/"
        },
        "id": "x8jVQzutnEMW",
        "outputId": "b2251f2a-f8fd-47d7-a74a-2f83c618dd39"
      },
      "source": [
        "# likewise we can get just the Philadelphia column\n",
        "temps_df['Philadelphia']"
      ],
      "execution_count": 19,
      "outputs": [
        {
          "output_type": "execute_result",
          "data": {
            "text/plain": [
              "2016-04-01    70\n",
              "2016-04-02    75\n",
              "2016-04-03    69\n",
              "2016-04-04    83\n",
              "2016-04-05    79\n",
              "2016-04-06    77\n",
              "Freq: D, Name: Philadelphia, dtype: int64"
            ]
          },
          "metadata": {
            "tags": []
          },
          "execution_count": 19
        }
      ]
    },
    {
      "cell_type": "code",
      "metadata": {
        "colab": {
          "base_uri": "https://localhost:8080/"
        },
        "id": "4qKC57gcnEMW",
        "outputId": "a8781668-8d2c-4388-dfb2-90e80d978a3b"
      },
      "source": [
        "# return both columns in a different order\n",
        "temps_df[['Philadelphia', 'Missoula']]"
      ],
      "execution_count": 20,
      "outputs": [
        {
          "output_type": "execute_result",
          "data": {
            "text/plain": [
              "            Philadelphia  Missoula\n",
              "2016-04-01            70        80\n",
              "2016-04-02            75        82\n",
              "2016-04-03            69        85\n",
              "2016-04-04            83        90\n",
              "2016-04-05            79        83\n",
              "2016-04-06            77        87"
            ]
          },
          "metadata": {
            "tags": []
          },
          "execution_count": 20
        }
      ]
    },
    {
      "cell_type": "code",
      "metadata": {
        "colab": {
          "base_uri": "https://localhost:8080/"
        },
        "id": "fK21Ao6inEMW",
        "outputId": "db71cf91-4e65-4bf1-dfaa-48d86688c3bf"
      },
      "source": [
        "# retrieve the Missoula column through property syntax\n",
        "temps_df.Missoula"
      ],
      "execution_count": 21,
      "outputs": [
        {
          "output_type": "execute_result",
          "data": {
            "text/plain": [
              "2016-04-01    80\n",
              "2016-04-02    82\n",
              "2016-04-03    85\n",
              "2016-04-04    90\n",
              "2016-04-05    83\n",
              "2016-04-06    87\n",
              "Freq: D, Name: Missoula, dtype: int64"
            ]
          },
          "metadata": {
            "tags": []
          },
          "execution_count": 21
        }
      ]
    },
    {
      "cell_type": "code",
      "metadata": {
        "colab": {
          "base_uri": "https://localhost:8080/"
        },
        "id": "UwmEI0ZmnEMW",
        "outputId": "fd259623-73c2-484a-acb8-1c2f68d6a62f"
      },
      "source": [
        "# calculate the temperature difference between the two cities\n",
        "temps_df.Missoula - temps_df.Philadelphia"
      ],
      "execution_count": 22,
      "outputs": [
        {
          "output_type": "execute_result",
          "data": {
            "text/plain": [
              "2016-04-01    10\n",
              "2016-04-02     7\n",
              "2016-04-03    16\n",
              "2016-04-04     7\n",
              "2016-04-05     4\n",
              "2016-04-06    10\n",
              "Freq: D, dtype: int64"
            ]
          },
          "metadata": {
            "tags": []
          },
          "execution_count": 22
        }
      ]
    },
    {
      "cell_type": "code",
      "metadata": {
        "colab": {
          "base_uri": "https://localhost:8080/"
        },
        "id": "MlWq3VI3nEMX",
        "outputId": "b3f415b8-3875-4170-f31d-482b11a48ce8"
      },
      "source": [
        "# add a column to temp_df which contains the difference in temps\n",
        "temps_df['Difference'] = temp_diffs\n",
        "temps_df"
      ],
      "execution_count": 23,
      "outputs": [
        {
          "output_type": "execute_result",
          "data": {
            "text/plain": [
              "            Missoula  Philadelphia  Difference\n",
              "2016-04-01        80            70          10\n",
              "2016-04-02        82            75           7\n",
              "2016-04-03        85            69          16\n",
              "2016-04-04        90            83           7\n",
              "2016-04-05        83            79           4\n",
              "2016-04-06        87            77          10"
            ]
          },
          "metadata": {
            "tags": []
          },
          "execution_count": 23
        }
      ]
    },
    {
      "cell_type": "code",
      "metadata": {
        "colab": {
          "base_uri": "https://localhost:8080/"
        },
        "id": "w6GGZy7pnEMX",
        "outputId": "9d04a958-0375-49a6-b504-e173bce1adcc"
      },
      "source": [
        "# get the columns, which is also an Index object\n",
        "temps_df.columns"
      ],
      "execution_count": 24,
      "outputs": [
        {
          "output_type": "execute_result",
          "data": {
            "text/plain": [
              "Index(['Missoula', 'Philadelphia', 'Difference'], dtype='object')"
            ]
          },
          "metadata": {
            "tags": []
          },
          "execution_count": 24
        }
      ]
    },
    {
      "cell_type": "code",
      "metadata": {
        "colab": {
          "base_uri": "https://localhost:8080/"
        },
        "id": "kip4sQh-nEMX",
        "outputId": "27f6be88-f2b2-4dde-e6e7-8ce8095056df"
      },
      "source": [
        "# slice the temp differences column for the rows at \n",
        "# location 1 through 4 (as though it is an array)\n",
        "temps_df.Difference[1:4]"
      ],
      "execution_count": 25,
      "outputs": [
        {
          "output_type": "execute_result",
          "data": {
            "text/plain": [
              "2016-04-02     7\n",
              "2016-04-03    16\n",
              "2016-04-04     7\n",
              "Freq: D, Name: Difference, dtype: int64"
            ]
          },
          "metadata": {
            "tags": []
          },
          "execution_count": 25
        }
      ]
    },
    {
      "cell_type": "code",
      "metadata": {
        "colab": {
          "base_uri": "https://localhost:8080/"
        },
        "id": "AUInmQESnEMX",
        "outputId": "f0952e57-15db-497d-b4f5-98bb1b2a7baa"
      },
      "source": [
        "# get the row at array position 1\n",
        "temps_df.iloc[1]"
      ],
      "execution_count": 26,
      "outputs": [
        {
          "output_type": "execute_result",
          "data": {
            "text/plain": [
              "Missoula        82\n",
              "Philadelphia    75\n",
              "Difference       7\n",
              "Name: 2016-04-02 00:00:00, dtype: int64"
            ]
          },
          "metadata": {
            "tags": []
          },
          "execution_count": 26
        }
      ]
    },
    {
      "cell_type": "code",
      "metadata": {
        "colab": {
          "base_uri": "https://localhost:8080/"
        },
        "id": "3G812dAynEMX",
        "outputId": "89cf5806-d8a0-4615-8b0b-65278cad2b53"
      },
      "source": [
        "# the names of the columns have become the index\n",
        "# they have been 'pivoted'\n",
        "temps_df.iloc[1].index"
      ],
      "execution_count": 27,
      "outputs": [
        {
          "output_type": "execute_result",
          "data": {
            "text/plain": [
              "Index(['Missoula', 'Philadelphia', 'Difference'], dtype='object')"
            ]
          },
          "metadata": {
            "tags": []
          },
          "execution_count": 27
        }
      ]
    },
    {
      "cell_type": "code",
      "metadata": {
        "colab": {
          "base_uri": "https://localhost:8080/"
        },
        "id": "YLrK_RHvnEMY",
        "outputId": "c87d7276-1690-46b4-ece5-ae9969b241e7"
      },
      "source": [
        "# retrieve row by index label using .loc\n",
        "temps_df.loc['2016-04-05']"
      ],
      "execution_count": 28,
      "outputs": [
        {
          "output_type": "execute_result",
          "data": {
            "text/plain": [
              "Missoula        83\n",
              "Philadelphia    79\n",
              "Difference       4\n",
              "Name: 2016-04-05 00:00:00, dtype: int64"
            ]
          },
          "metadata": {
            "tags": []
          },
          "execution_count": 28
        }
      ]
    },
    {
      "cell_type": "code",
      "metadata": {
        "id": "FX9K9aFtnEMY",
        "outputId": "104583df-e272-45bc-ada6-2fb808cb61cd"
      },
      "source": [
        "# get the values in the Differences column in tows 1, 3 and 5\n",
        "# using 0-based location\n",
        "temps_df.iloc[[1, 3, 5]].Difference"
      ],
      "execution_count": null,
      "outputs": [
        {
          "output_type": "execute_result",
          "data": {
            "text/plain": [
              "2016-04-02     7\n",
              "2016-04-04     7\n",
              "2016-04-06    10\n",
              "Freq: 2D, Name: Difference, dtype: int64"
            ]
          },
          "metadata": {
            "tags": []
          },
          "execution_count": 27
        }
      ]
    },
    {
      "cell_type": "code",
      "metadata": {
        "id": "eQVv_f7Bryf8"
      },
      "source": [
        ""
      ],
      "execution_count": 30,
      "outputs": []
    },
    {
      "cell_type": "code",
      "metadata": {
        "colab": {
          "base_uri": "https://localhost:8080/"
        },
        "id": "yhZCeZnAru-8",
        "outputId": "938e3cca-5d26-4f49-cf73-12da18ba0f54"
      },
      "source": [
        "temps_df.iloc[[1, 3, 5]]"
      ],
      "execution_count": 31,
      "outputs": [
        {
          "output_type": "execute_result",
          "data": {
            "text/plain": [
              "            Missoula  Philadelphia  Difference\n",
              "2016-04-02        82            75           7\n",
              "2016-04-04        90            83           7\n",
              "2016-04-06        87            77          10"
            ]
          },
          "metadata": {
            "tags": []
          },
          "execution_count": 31
        }
      ]
    },
    {
      "cell_type": "code",
      "metadata": {
        "colab": {
          "base_uri": "https://localhost:8080/"
        },
        "id": "_FQR1eWvnEMY",
        "outputId": "11a5f98f-c9ae-4460-b01c-5764f452cd0d"
      },
      "source": [
        "# which values in the Missoula column are > 82?\n",
        "temps_df.Missoula > 82"
      ],
      "execution_count": 32,
      "outputs": [
        {
          "output_type": "execute_result",
          "data": {
            "text/plain": [
              "2016-04-01    False\n",
              "2016-04-02    False\n",
              "2016-04-03     True\n",
              "2016-04-04     True\n",
              "2016-04-05     True\n",
              "2016-04-06     True\n",
              "Freq: D, Name: Missoula, dtype: bool"
            ]
          },
          "metadata": {
            "tags": []
          },
          "execution_count": 32
        }
      ]
    },
    {
      "cell_type": "code",
      "metadata": {
        "colab": {
          "base_uri": "https://localhost:8080/"
        },
        "id": "eCqFa8hunEMZ",
        "outputId": "48beb26a-13ba-4007-84ad-d2114c452f24"
      },
      "source": [
        "# return the rows where the temps for Missoula > 82\n",
        "temps_df[temps_df.Missoula > 82]"
      ],
      "execution_count": 33,
      "outputs": [
        {
          "output_type": "execute_result",
          "data": {
            "text/plain": [
              "            Missoula  Philadelphia  Difference\n",
              "2016-04-03        85            69          16\n",
              "2016-04-04        90            83           7\n",
              "2016-04-05        83            79           4\n",
              "2016-04-06        87            77          10"
            ]
          },
          "metadata": {
            "tags": []
          },
          "execution_count": 33
        }
      ]
    },
    {
      "cell_type": "markdown",
      "metadata": {
        "id": "EJP-juRRnEMZ"
      },
      "source": [
        "# Loading data from a CSV file into a DataFrame"
      ]
    },
    {
      "cell_type": "code",
      "metadata": {
        "colab": {
          "base_uri": "https://localhost:8080/"
        },
        "id": "fRIG0hGnsruE",
        "outputId": "1117c3f0-da60-447a-8a44-e67d091b06b5"
      },
      "source": [
        "import os\r\n",
        "print(os.getcwd())"
      ],
      "execution_count": 40,
      "outputs": [
        {
          "output_type": "stream",
          "text": [
            "/content\n"
          ],
          "name": "stdout"
        }
      ]
    },
    {
      "cell_type": "code",
      "metadata": {
        "id": "uUFD_Gvrtnm2"
      },
      "source": [
        "!git clone https://www.github.com/matterport/Mask_RCNN.git\r\n",
        "files.os.chdir('Mask_RCNN')"
      ],
      "execution_count": null,
      "outputs": []
    },
    {
      "cell_type": "code",
      "metadata": {
        "colab": {
          "base_uri": "https://localhost:8080/",
          "height": 317
        },
        "id": "oITv9wt5txe8",
        "outputId": "fbfbf9d7-bcd5-4f83-8ef5-54b600db9ec9"
      },
      "source": [
        "!git clone https://github.com/jiayou60/Learning-Pandas-Second-Edition.git\r\n",
        "files.os.chdir('Learning-Pandas-Second-Edition')"
      ],
      "execution_count": 41,
      "outputs": [
        {
          "output_type": "stream",
          "text": [
            "Cloning into 'Learning-Pandas-Second-Edition'...\n",
            "remote: Enumerating objects: 4, done.\u001b[K\n",
            "remote: Counting objects: 100% (4/4), done.\u001b[K\n",
            "remote: Compressing objects: 100% (4/4), done.\u001b[K\n",
            "remote: Total 72 (delta 0), reused 0 (delta 0), pack-reused 68\u001b[K\n",
            "Unpacking objects: 100% (72/72), done.\n"
          ],
          "name": "stdout"
        },
        {
          "output_type": "error",
          "ename": "NameError",
          "evalue": "ignored",
          "traceback": [
            "\u001b[0;31m---------------------------------------------------------------------------\u001b[0m",
            "\u001b[0;31mNameError\u001b[0m                                 Traceback (most recent call last)",
            "\u001b[0;32m<ipython-input-41-e507538acf59>\u001b[0m in \u001b[0;36m<module>\u001b[0;34m()\u001b[0m\n\u001b[1;32m      1\u001b[0m \u001b[0mget_ipython\u001b[0m\u001b[0;34m(\u001b[0m\u001b[0;34m)\u001b[0m\u001b[0;34m.\u001b[0m\u001b[0msystem\u001b[0m\u001b[0;34m(\u001b[0m\u001b[0;34m'git clone https://github.com/jiayou60/Learning-Pandas-Second-Edition.git'\u001b[0m\u001b[0;34m)\u001b[0m\u001b[0;34m\u001b[0m\u001b[0;34m\u001b[0m\u001b[0m\n\u001b[0;32m----> 2\u001b[0;31m \u001b[0mfiles\u001b[0m\u001b[0;34m.\u001b[0m\u001b[0mos\u001b[0m\u001b[0;34m.\u001b[0m\u001b[0mchdir\u001b[0m\u001b[0;34m(\u001b[0m\u001b[0;34m'Learning-Pandas-Second-Edition'\u001b[0m\u001b[0;34m)\u001b[0m\u001b[0;34m\u001b[0m\u001b[0;34m\u001b[0m\u001b[0m\n\u001b[0m",
            "\u001b[0;31mNameError\u001b[0m: name 'files' is not defined"
          ]
        }
      ]
    },
    {
      "cell_type": "code",
      "metadata": {
        "id": "UxrFdueWtIrv"
      },
      "source": [
        "https://github.com/jiayou60/Learning-Pandas-Second-Edition"
      ],
      "execution_count": null,
      "outputs": []
    },
    {
      "cell_type": "code",
      "metadata": {
        "colab": {
          "base_uri": "https://localhost:8080/"
        },
        "id": "YuxrfdEHnEMZ",
        "outputId": "63622c1c-7ddb-4819-f008-74ec36606087"
      },
      "source": [
        "# display the contents of test1.csv\n",
        "# which command to use depends on your OS\n",
        "#!head data/goog.csv # on non-windows systems\n",
        "!type data/test1.csv # on windows systems, all lines"
      ],
      "execution_count": 36,
      "outputs": [
        {
          "output_type": "stream",
          "text": [
            "/bin/bash: line 0: type: data/test1.csv: not found\n"
          ],
          "name": "stdout"
        }
      ]
    },
    {
      "cell_type": "code",
      "metadata": {
        "colab": {
          "base_uri": "https://localhost:8080/",
          "height": 455
        },
        "id": "Q28DjtmMnEMZ",
        "outputId": "a4891f69-8f73-4f16-a9d3-5e9d13c654f9"
      },
      "source": [
        "# read the contents of the file into a DataFrame\n",
        "df = pd.read_csv('data/goog.csv')\n",
        "df"
      ],
      "execution_count": 35,
      "outputs": [
        {
          "output_type": "error",
          "ename": "FileNotFoundError",
          "evalue": "ignored",
          "traceback": [
            "\u001b[0;31m---------------------------------------------------------------------------\u001b[0m",
            "\u001b[0;31mFileNotFoundError\u001b[0m                         Traceback (most recent call last)",
            "\u001b[0;32m<ipython-input-35-5c9e4ba93344>\u001b[0m in \u001b[0;36m<module>\u001b[0;34m()\u001b[0m\n\u001b[1;32m      1\u001b[0m \u001b[0;31m# read the contents of the file into a DataFrame\u001b[0m\u001b[0;34m\u001b[0m\u001b[0;34m\u001b[0m\u001b[0;34m\u001b[0m\u001b[0m\n\u001b[0;32m----> 2\u001b[0;31m \u001b[0mdf\u001b[0m \u001b[0;34m=\u001b[0m \u001b[0mpd\u001b[0m\u001b[0;34m.\u001b[0m\u001b[0mread_csv\u001b[0m\u001b[0;34m(\u001b[0m\u001b[0;34m'data/goog.csv'\u001b[0m\u001b[0;34m)\u001b[0m\u001b[0;34m\u001b[0m\u001b[0;34m\u001b[0m\u001b[0m\n\u001b[0m\u001b[1;32m      3\u001b[0m \u001b[0mdf\u001b[0m\u001b[0;34m\u001b[0m\u001b[0;34m\u001b[0m\u001b[0m\n",
            "\u001b[0;32m/usr/local/lib/python3.6/dist-packages/pandas/io/parsers.py\u001b[0m in \u001b[0;36mread_csv\u001b[0;34m(filepath_or_buffer, sep, delimiter, header, names, index_col, usecols, squeeze, prefix, mangle_dupe_cols, dtype, engine, converters, true_values, false_values, skipinitialspace, skiprows, skipfooter, nrows, na_values, keep_default_na, na_filter, verbose, skip_blank_lines, parse_dates, infer_datetime_format, keep_date_col, date_parser, dayfirst, cache_dates, iterator, chunksize, compression, thousands, decimal, lineterminator, quotechar, quoting, doublequote, escapechar, comment, encoding, dialect, error_bad_lines, warn_bad_lines, delim_whitespace, low_memory, memory_map, float_precision)\u001b[0m\n\u001b[1;32m    686\u001b[0m     )\n\u001b[1;32m    687\u001b[0m \u001b[0;34m\u001b[0m\u001b[0m\n\u001b[0;32m--> 688\u001b[0;31m     \u001b[0;32mreturn\u001b[0m \u001b[0m_read\u001b[0m\u001b[0;34m(\u001b[0m\u001b[0mfilepath_or_buffer\u001b[0m\u001b[0;34m,\u001b[0m \u001b[0mkwds\u001b[0m\u001b[0;34m)\u001b[0m\u001b[0;34m\u001b[0m\u001b[0;34m\u001b[0m\u001b[0m\n\u001b[0m\u001b[1;32m    689\u001b[0m \u001b[0;34m\u001b[0m\u001b[0m\n\u001b[1;32m    690\u001b[0m \u001b[0;34m\u001b[0m\u001b[0m\n",
            "\u001b[0;32m/usr/local/lib/python3.6/dist-packages/pandas/io/parsers.py\u001b[0m in \u001b[0;36m_read\u001b[0;34m(filepath_or_buffer, kwds)\u001b[0m\n\u001b[1;32m    452\u001b[0m \u001b[0;34m\u001b[0m\u001b[0m\n\u001b[1;32m    453\u001b[0m     \u001b[0;31m# Create the parser.\u001b[0m\u001b[0;34m\u001b[0m\u001b[0;34m\u001b[0m\u001b[0;34m\u001b[0m\u001b[0m\n\u001b[0;32m--> 454\u001b[0;31m     \u001b[0mparser\u001b[0m \u001b[0;34m=\u001b[0m \u001b[0mTextFileReader\u001b[0m\u001b[0;34m(\u001b[0m\u001b[0mfp_or_buf\u001b[0m\u001b[0;34m,\u001b[0m \u001b[0;34m**\u001b[0m\u001b[0mkwds\u001b[0m\u001b[0;34m)\u001b[0m\u001b[0;34m\u001b[0m\u001b[0;34m\u001b[0m\u001b[0m\n\u001b[0m\u001b[1;32m    455\u001b[0m \u001b[0;34m\u001b[0m\u001b[0m\n\u001b[1;32m    456\u001b[0m     \u001b[0;32mif\u001b[0m \u001b[0mchunksize\u001b[0m \u001b[0;32mor\u001b[0m \u001b[0miterator\u001b[0m\u001b[0;34m:\u001b[0m\u001b[0;34m\u001b[0m\u001b[0;34m\u001b[0m\u001b[0m\n",
            "\u001b[0;32m/usr/local/lib/python3.6/dist-packages/pandas/io/parsers.py\u001b[0m in \u001b[0;36m__init__\u001b[0;34m(self, f, engine, **kwds)\u001b[0m\n\u001b[1;32m    946\u001b[0m             \u001b[0mself\u001b[0m\u001b[0;34m.\u001b[0m\u001b[0moptions\u001b[0m\u001b[0;34m[\u001b[0m\u001b[0;34m\"has_index_names\"\u001b[0m\u001b[0;34m]\u001b[0m \u001b[0;34m=\u001b[0m \u001b[0mkwds\u001b[0m\u001b[0;34m[\u001b[0m\u001b[0;34m\"has_index_names\"\u001b[0m\u001b[0;34m]\u001b[0m\u001b[0;34m\u001b[0m\u001b[0;34m\u001b[0m\u001b[0m\n\u001b[1;32m    947\u001b[0m \u001b[0;34m\u001b[0m\u001b[0m\n\u001b[0;32m--> 948\u001b[0;31m         \u001b[0mself\u001b[0m\u001b[0;34m.\u001b[0m\u001b[0m_make_engine\u001b[0m\u001b[0;34m(\u001b[0m\u001b[0mself\u001b[0m\u001b[0;34m.\u001b[0m\u001b[0mengine\u001b[0m\u001b[0;34m)\u001b[0m\u001b[0;34m\u001b[0m\u001b[0;34m\u001b[0m\u001b[0m\n\u001b[0m\u001b[1;32m    949\u001b[0m \u001b[0;34m\u001b[0m\u001b[0m\n\u001b[1;32m    950\u001b[0m     \u001b[0;32mdef\u001b[0m \u001b[0mclose\u001b[0m\u001b[0;34m(\u001b[0m\u001b[0mself\u001b[0m\u001b[0;34m)\u001b[0m\u001b[0;34m:\u001b[0m\u001b[0;34m\u001b[0m\u001b[0;34m\u001b[0m\u001b[0m\n",
            "\u001b[0;32m/usr/local/lib/python3.6/dist-packages/pandas/io/parsers.py\u001b[0m in \u001b[0;36m_make_engine\u001b[0;34m(self, engine)\u001b[0m\n\u001b[1;32m   1178\u001b[0m     \u001b[0;32mdef\u001b[0m \u001b[0m_make_engine\u001b[0m\u001b[0;34m(\u001b[0m\u001b[0mself\u001b[0m\u001b[0;34m,\u001b[0m \u001b[0mengine\u001b[0m\u001b[0;34m=\u001b[0m\u001b[0;34m\"c\"\u001b[0m\u001b[0;34m)\u001b[0m\u001b[0;34m:\u001b[0m\u001b[0;34m\u001b[0m\u001b[0;34m\u001b[0m\u001b[0m\n\u001b[1;32m   1179\u001b[0m         \u001b[0;32mif\u001b[0m \u001b[0mengine\u001b[0m \u001b[0;34m==\u001b[0m \u001b[0;34m\"c\"\u001b[0m\u001b[0;34m:\u001b[0m\u001b[0;34m\u001b[0m\u001b[0;34m\u001b[0m\u001b[0m\n\u001b[0;32m-> 1180\u001b[0;31m             \u001b[0mself\u001b[0m\u001b[0;34m.\u001b[0m\u001b[0m_engine\u001b[0m \u001b[0;34m=\u001b[0m \u001b[0mCParserWrapper\u001b[0m\u001b[0;34m(\u001b[0m\u001b[0mself\u001b[0m\u001b[0;34m.\u001b[0m\u001b[0mf\u001b[0m\u001b[0;34m,\u001b[0m \u001b[0;34m**\u001b[0m\u001b[0mself\u001b[0m\u001b[0;34m.\u001b[0m\u001b[0moptions\u001b[0m\u001b[0;34m)\u001b[0m\u001b[0;34m\u001b[0m\u001b[0;34m\u001b[0m\u001b[0m\n\u001b[0m\u001b[1;32m   1181\u001b[0m         \u001b[0;32melse\u001b[0m\u001b[0;34m:\u001b[0m\u001b[0;34m\u001b[0m\u001b[0;34m\u001b[0m\u001b[0m\n\u001b[1;32m   1182\u001b[0m             \u001b[0;32mif\u001b[0m \u001b[0mengine\u001b[0m \u001b[0;34m==\u001b[0m \u001b[0;34m\"python\"\u001b[0m\u001b[0;34m:\u001b[0m\u001b[0;34m\u001b[0m\u001b[0;34m\u001b[0m\u001b[0m\n",
            "\u001b[0;32m/usr/local/lib/python3.6/dist-packages/pandas/io/parsers.py\u001b[0m in \u001b[0;36m__init__\u001b[0;34m(self, src, **kwds)\u001b[0m\n\u001b[1;32m   2008\u001b[0m         \u001b[0mkwds\u001b[0m\u001b[0;34m[\u001b[0m\u001b[0;34m\"usecols\"\u001b[0m\u001b[0;34m]\u001b[0m \u001b[0;34m=\u001b[0m \u001b[0mself\u001b[0m\u001b[0;34m.\u001b[0m\u001b[0musecols\u001b[0m\u001b[0;34m\u001b[0m\u001b[0;34m\u001b[0m\u001b[0m\n\u001b[1;32m   2009\u001b[0m \u001b[0;34m\u001b[0m\u001b[0m\n\u001b[0;32m-> 2010\u001b[0;31m         \u001b[0mself\u001b[0m\u001b[0;34m.\u001b[0m\u001b[0m_reader\u001b[0m \u001b[0;34m=\u001b[0m \u001b[0mparsers\u001b[0m\u001b[0;34m.\u001b[0m\u001b[0mTextReader\u001b[0m\u001b[0;34m(\u001b[0m\u001b[0msrc\u001b[0m\u001b[0;34m,\u001b[0m \u001b[0;34m**\u001b[0m\u001b[0mkwds\u001b[0m\u001b[0;34m)\u001b[0m\u001b[0;34m\u001b[0m\u001b[0;34m\u001b[0m\u001b[0m\n\u001b[0m\u001b[1;32m   2011\u001b[0m         \u001b[0mself\u001b[0m\u001b[0;34m.\u001b[0m\u001b[0munnamed_cols\u001b[0m \u001b[0;34m=\u001b[0m \u001b[0mself\u001b[0m\u001b[0;34m.\u001b[0m\u001b[0m_reader\u001b[0m\u001b[0;34m.\u001b[0m\u001b[0munnamed_cols\u001b[0m\u001b[0;34m\u001b[0m\u001b[0;34m\u001b[0m\u001b[0m\n\u001b[1;32m   2012\u001b[0m \u001b[0;34m\u001b[0m\u001b[0m\n",
            "\u001b[0;32mpandas/_libs/parsers.pyx\u001b[0m in \u001b[0;36mpandas._libs.parsers.TextReader.__cinit__\u001b[0;34m()\u001b[0m\n",
            "\u001b[0;32mpandas/_libs/parsers.pyx\u001b[0m in \u001b[0;36mpandas._libs.parsers.TextReader._setup_parser_source\u001b[0;34m()\u001b[0m\n",
            "\u001b[0;31mFileNotFoundError\u001b[0m: [Errno 2] No such file or directory: 'data/goog.csv'"
          ]
        }
      ]
    },
    {
      "cell_type": "code",
      "metadata": {
        "id": "wyrzsm0anEMa",
        "outputId": "46928642-eb1c-4ff7-b95c-aa63131f3e61"
      },
      "source": [
        "# the contents of the date column\n",
        "df.Date"
      ],
      "execution_count": null,
      "outputs": [
        {
          "output_type": "execute_result",
          "data": {
            "text/plain": [
              "0     12/19/2016\n",
              "1     12/20/2016\n",
              "2     12/21/2016\n",
              "3     12/22/2016\n",
              "4     12/23/2016\n",
              "         ...    \n",
              "56     3/13/2017\n",
              "57     3/14/2017\n",
              "58     3/15/2017\n",
              "59     3/16/2017\n",
              "60     3/17/2017\n",
              "Name: Date, Length: 61, dtype: object"
            ]
          },
          "metadata": {
            "tags": []
          },
          "execution_count": 32
        }
      ]
    },
    {
      "cell_type": "code",
      "metadata": {
        "id": "UEHZVCJmnEMa",
        "outputId": "55581fcd-6a12-4961-ea49-24e6efc26ed5"
      },
      "source": [
        "# we can get the first value in the date column\n",
        "df.Date[0]"
      ],
      "execution_count": null,
      "outputs": [
        {
          "output_type": "execute_result",
          "data": {
            "text/plain": [
              "'12/19/2016'"
            ]
          },
          "metadata": {
            "tags": []
          },
          "execution_count": 33
        }
      ]
    },
    {
      "cell_type": "code",
      "metadata": {
        "id": "xwTdmAq6nEMa",
        "outputId": "1c0e91ae-321e-4dfa-d8c0-ecdd2dc0123f"
      },
      "source": [
        "# it is a string\n",
        "type(df.Date[0])"
      ],
      "execution_count": null,
      "outputs": [
        {
          "output_type": "execute_result",
          "data": {
            "text/plain": [
              "str"
            ]
          },
          "metadata": {
            "tags": []
          },
          "execution_count": 34
        }
      ]
    },
    {
      "cell_type": "code",
      "metadata": {
        "id": "LoeugZHpnEMa",
        "outputId": "b171bd41-db5c-4fda-f221-29ba2d09144a"
      },
      "source": [
        "# read the data and tell pandas the date column should be \n",
        "# a date in the resulting DataFrame\n",
        "df = pd.read_csv('data/goog.csv', parse_dates=['Date'])\n",
        "df"
      ],
      "execution_count": null,
      "outputs": [
        {
          "output_type": "execute_result",
          "data": {
            "text/plain": [
              "         Date        Open        High         Low       Close   Volume\n",
              "0  2016-12-19  790.219971  797.659973  786.270020  794.200012  1225900\n",
              "1  2016-12-20  796.760010  798.650024  793.270020  796.419983   925100\n",
              "2  2016-12-21  795.840027  796.676025  787.099976  794.559998  1208700\n",
              "3  2016-12-22  792.359985  793.320007  788.580017  791.260010   969100\n",
              "4  2016-12-23  790.900024  792.739990  787.280029  789.909973   623400\n",
              "..        ...         ...         ...         ...         ...      ...\n",
              "56 2017-03-13  844.000000  848.684998  843.250000  845.539978  1149500\n",
              "57 2017-03-14  843.640015  847.239990  840.799988  845.619995   779900\n",
              "58 2017-03-15  847.590027  848.630005  840.770020  847.200012  1379600\n",
              "59 2017-03-16  849.030029  850.849976  846.130005  848.780029   970400\n",
              "60 2017-03-17  851.609985  853.400024  847.109985  852.119995  1712300\n",
              "\n",
              "[61 rows x 6 columns]"
            ]
          },
          "metadata": {
            "tags": []
          },
          "execution_count": 35
        }
      ]
    },
    {
      "cell_type": "code",
      "metadata": {
        "id": "Si4VhKMcnEMa",
        "outputId": "16f3ae0e-3344-4e91-85a8-aec4a7f4fd54"
      },
      "source": [
        "# verify the type now is date\n",
        "# in pandas, this is actually a Timestamp\n",
        "type(df.Date[0])"
      ],
      "execution_count": null,
      "outputs": [
        {
          "output_type": "execute_result",
          "data": {
            "text/plain": [
              "pandas._libs.tslib.Timestamp"
            ]
          },
          "metadata": {
            "tags": []
          },
          "execution_count": 36
        }
      ]
    },
    {
      "cell_type": "code",
      "metadata": {
        "id": "tfwHbAyknEMb",
        "outputId": "23a9dc52-0ba4-4202-8307-4f5f046fc870"
      },
      "source": [
        "# unfortunately the index is numeric which makes\n",
        "# accessing data by date more complicated\n",
        "df.index"
      ],
      "execution_count": null,
      "outputs": [
        {
          "output_type": "execute_result",
          "data": {
            "text/plain": [
              "RangeIndex(start=0, stop=61, step=1)"
            ]
          },
          "metadata": {
            "tags": []
          },
          "execution_count": 37
        }
      ]
    },
    {
      "cell_type": "code",
      "metadata": {
        "id": "X8gG38M7nEMb",
        "outputId": "a2120eb2-1d36-4858-c3be-4fc7e7a530ed"
      },
      "source": [
        "# read in again, now specity the data column as being the \n",
        "# index of the resulting DataFrame\n",
        "df = pd.read_csv('data/goog.csv', \n",
        "                 parse_dates=['Date'], \n",
        "                 index_col='Date')\n",
        "df"
      ],
      "execution_count": null,
      "outputs": [
        {
          "output_type": "execute_result",
          "data": {
            "text/plain": [
              "                  Open        High         Low       Close   Volume\n",
              "Date                                                               \n",
              "2016-12-19  790.219971  797.659973  786.270020  794.200012  1225900\n",
              "2016-12-20  796.760010  798.650024  793.270020  796.419983   925100\n",
              "2016-12-21  795.840027  796.676025  787.099976  794.559998  1208700\n",
              "2016-12-22  792.359985  793.320007  788.580017  791.260010   969100\n",
              "2016-12-23  790.900024  792.739990  787.280029  789.909973   623400\n",
              "...                ...         ...         ...         ...      ...\n",
              "2017-03-13  844.000000  848.684998  843.250000  845.539978  1149500\n",
              "2017-03-14  843.640015  847.239990  840.799988  845.619995   779900\n",
              "2017-03-15  847.590027  848.630005  840.770020  847.200012  1379600\n",
              "2017-03-16  849.030029  850.849976  846.130005  848.780029   970400\n",
              "2017-03-17  851.609985  853.400024  847.109985  852.119995  1712300\n",
              "\n",
              "[61 rows x 5 columns]"
            ]
          },
          "metadata": {
            "tags": []
          },
          "execution_count": 38
        }
      ]
    },
    {
      "cell_type": "code",
      "metadata": {
        "id": "cVw8lAxBnEMb",
        "outputId": "dbbd88d5-8d71-4912-e1d5-4e4c54099ce8"
      },
      "source": [
        "# and the index is now a DatetimeIndex\n",
        "df.index"
      ],
      "execution_count": null,
      "outputs": [
        {
          "output_type": "execute_result",
          "data": {
            "text/plain": [
              "DatetimeIndex(['2016-12-19', '2016-12-20', '2016-12-21', '2016-12-22',\n",
              "               '2016-12-23', '2016-12-27', '2016-12-28', '2016-12-29',\n",
              "               '2016-12-30', '2017-01-03', '2017-01-04', '2017-01-05',\n",
              "               '2017-01-06', '2017-01-09', '2017-01-10', '2017-01-11',\n",
              "               '2017-01-12', '2017-01-13', '2017-01-17', '2017-01-18',\n",
              "               '2017-01-19', '2017-01-20', '2017-01-23', '2017-01-24',\n",
              "               '2017-01-25', '2017-01-26', '2017-01-27', '2017-01-30',\n",
              "               '2017-01-31', '2017-02-01', '2017-02-02', '2017-02-03',\n",
              "               '2017-02-06', '2017-02-07', '2017-02-08', '2017-02-09',\n",
              "               '2017-02-10', '2017-02-13', '2017-02-14', '2017-02-15',\n",
              "               '2017-02-16', '2017-02-17', '2017-02-21', '2017-02-22',\n",
              "               '2017-02-23', '2017-02-24', '2017-02-27', '2017-02-28',\n",
              "               '2017-03-01', '2017-03-02', '2017-03-03', '2017-03-06',\n",
              "               '2017-03-07', '2017-03-08', '2017-03-09', '2017-03-10',\n",
              "               '2017-03-13', '2017-03-14', '2017-03-15', '2017-03-16',\n",
              "               '2017-03-17'],\n",
              "              dtype='datetime64[ns]', name='Date', freq=None)"
            ]
          },
          "metadata": {
            "tags": []
          },
          "execution_count": 39
        }
      ]
    },
    {
      "cell_type": "markdown",
      "metadata": {
        "id": "7w2x4TBunEMb"
      },
      "source": [
        "# Visualization"
      ]
    },
    {
      "cell_type": "code",
      "metadata": {
        "id": "yXGIFjXrnEMc",
        "outputId": "85b93502-94fa-46d6-aa33-13ed18344bf0"
      },
      "source": [
        "# plots the values in the Close column\n",
        "df.Close.plot();"
      ],
      "execution_count": null,
      "outputs": [
        {
          "output_type": "display_data",
          "data": {
            "image/png": "[encoded data removed]",
            "text/plain": [
              "<matplotlib.figure.Figure at 0x10eb97ba8>"
            ]
          },
          "metadata": {
            "tags": []
          }
        }
      ]
    }
  ]
}