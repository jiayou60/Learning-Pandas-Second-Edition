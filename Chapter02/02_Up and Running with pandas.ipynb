{
  "nbformat": 4,
  "nbformat_minor": 0,
  "metadata": {
    "anaconda-cloud": {},
    "kernelspec": {
      "display_name": "Python 3",
      "language": "python",
      "name": "python3"
    },
    "language_info": {
      "codemirror_mode": {
        "name": "ipython",
        "version": 3
      },
      "file_extension": ".py",
      "mimetype": "text/x-python",
      "name": "python",
      "nbconvert_exporter": "python",
      "pygments_lexer": "ipython3",
      "version": "3.6.1"
    },
    "colab": {
      "name": "02_Up and Running with pandas.ipynb",
      "provenance": [],
      "toc_visible": true
    }
  },
  "cells": [
    {
      "cell_type": "markdown",
      "metadata": {
        "id": "zzNtziCcnEMJ"
      },
      "source": [
        "# Configuring pandas"
      ]
    },
    {
      "cell_type": "markdown",
      "metadata": {
        "id": "JBCFSexY0Mr0"
      },
      "source": [
        "/content/Learning-Pandas-Second-Edition"
      ]
    },
    {
      "cell_type": "code",
      "metadata": {
        "id": "gk7BdOq-nEMP"
      },
      "source": [
        "# import numpy and pandas\n",
        "import numpy as np\n",
        "import pandas as pd\n",
        "\n",
        "# used for dates\n",
        "import datetime\n",
        "from datetime import datetime, date\n",
        "\n",
        "# Set some pandas options controlling output format\n",
        "pd.set_option('display.notebook_repr_html', False)\n",
        "pd.set_option('display.max_columns', 8)\n",
        "pd.set_option('display.max_rows', 10)\n",
        "pd.set_option('display.width', 80)\n",
        "\n",
        "# bring in matplotlib for graphics\n",
        "import matplotlib.pyplot as plt\n",
        "%matplotlib inline"
      ],
      "execution_count": 1,
      "outputs": []
    },
    {
      "cell_type": "markdown",
      "metadata": {
        "id": "G94deRronEMQ"
      },
      "source": [
        "# The pandas Series"
      ]
    },
    {
      "cell_type": "code",
      "metadata": {
        "colab": {
          "base_uri": "https://localhost:8080/"
        },
        "id": "aUAtSMyYnEMQ",
        "outputId": "b008047f-4a5b-4d46-9517-27347447dcc2"
      },
      "source": [
        "# create a four item Series\n",
        "s = pd.Series([1, 2, 3, 4])\n",
        "s"
      ],
      "execution_count": 2,
      "outputs": [
        {
          "output_type": "execute_result",
          "data": {
            "text/plain": [
              "0    1\n",
              "1    2\n",
              "2    3\n",
              "3    4\n",
              "dtype: int64"
            ]
          },
          "metadata": {
            "tags": []
          },
          "execution_count": 2
        }
      ]
    },
    {
      "cell_type": "code",
      "metadata": {
        "colab": {
          "base_uri": "https://localhost:8080/"
        },
        "id": "MLokkWx6nEMR",
        "outputId": "3b177d2c-085d-40ec-df7b-79b950390d0d"
      },
      "source": [
        "# get value at label 1\n",
        "s[1]"
      ],
      "execution_count": 3,
      "outputs": [
        {
          "output_type": "execute_result",
          "data": {
            "text/plain": [
              "2"
            ]
          },
          "metadata": {
            "tags": []
          },
          "execution_count": 3
        }
      ]
    },
    {
      "cell_type": "code",
      "metadata": {
        "colab": {
          "base_uri": "https://localhost:8080/"
        },
        "id": "qVSIjvn_nEMR",
        "outputId": "80c1c795-7ba9-4d9e-d52c-950f8b9b589c"
      },
      "source": [
        "# return a Series with the row with labels 1 and 3\n",
        "s[[1, 3]]"
      ],
      "execution_count": 4,
      "outputs": [
        {
          "output_type": "execute_result",
          "data": {
            "text/plain": [
              "1    2\n",
              "3    4\n",
              "dtype: int64"
            ]
          },
          "metadata": {
            "tags": []
          },
          "execution_count": 4
        }
      ]
    },
    {
      "cell_type": "code",
      "metadata": {
        "colab": {
          "base_uri": "https://localhost:8080/"
        },
        "id": "ntRqRgPxpJD_",
        "outputId": "81486595-9358-4936-fc12-1234df8f05b5"
      },
      "source": [
        "type(s[[1, 3]])"
      ],
      "execution_count": 5,
      "outputs": [
        {
          "output_type": "execute_result",
          "data": {
            "text/plain": [
              "pandas.core.series.Series"
            ]
          },
          "metadata": {
            "tags": []
          },
          "execution_count": 5
        }
      ]
    },
    {
      "cell_type": "code",
      "metadata": {
        "colab": {
          "base_uri": "https://localhost:8080/"
        },
        "id": "rDYQIcpenEMS",
        "outputId": "cc03802a-b3cf-4200-aed6-c5243e358b1a"
      },
      "source": [
        "# create a series using an explicit index\n",
        "s = pd.Series([1, 2, 3, 4], \n",
        "               index = ['a', 'b', 'c', 'd'])\n",
        "s"
      ],
      "execution_count": 6,
      "outputs": [
        {
          "output_type": "execute_result",
          "data": {
            "text/plain": [
              "a    1\n",
              "b    2\n",
              "c    3\n",
              "d    4\n",
              "dtype: int64"
            ]
          },
          "metadata": {
            "tags": []
          },
          "execution_count": 6
        }
      ]
    },
    {
      "cell_type": "code",
      "metadata": {
        "colab": {
          "base_uri": "https://localhost:8080/"
        },
        "id": "gPPle-iSnEMS",
        "outputId": "925ca9bc-e3ce-457f-b3cd-b2bb894f6b1a"
      },
      "source": [
        "# look up items the series having index 'a' and 'd'\n",
        "s[['a', 'd']]"
      ],
      "execution_count": 7,
      "outputs": [
        {
          "output_type": "execute_result",
          "data": {
            "text/plain": [
              "a    1\n",
              "d    4\n",
              "dtype: int64"
            ]
          },
          "metadata": {
            "tags": []
          },
          "execution_count": 7
        }
      ]
    },
    {
      "cell_type": "code",
      "metadata": {
        "colab": {
          "base_uri": "https://localhost:8080/"
        },
        "id": "03wAwL3TnEMS",
        "outputId": "dcf63ac9-c162-47f4-b460-5d7e974918cc"
      },
      "source": [
        "# passing a list of integers to a Series that has\n",
        "# non-integer index labels will look up based upon\n",
        "# 0-based index like an array\n",
        "s[[1, 2]]"
      ],
      "execution_count": 8,
      "outputs": [
        {
          "output_type": "execute_result",
          "data": {
            "text/plain": [
              "b    2\n",
              "c    3\n",
              "dtype: int64"
            ]
          },
          "metadata": {
            "tags": []
          },
          "execution_count": 8
        }
      ]
    },
    {
      "cell_type": "code",
      "metadata": {
        "colab": {
          "base_uri": "https://localhost:8080/"
        },
        "id": "R391MtbXnEMT",
        "outputId": "a6a68f15-13ad-47a6-b6e5-c23e54e4b666"
      },
      "source": [
        "# get only the index of the Series\n",
        "s.index"
      ],
      "execution_count": 9,
      "outputs": [
        {
          "output_type": "execute_result",
          "data": {
            "text/plain": [
              "Index(['a', 'b', 'c', 'd'], dtype='object')"
            ]
          },
          "metadata": {
            "tags": []
          },
          "execution_count": 9
        }
      ]
    },
    {
      "cell_type": "code",
      "metadata": {
        "colab": {
          "base_uri": "https://localhost:8080/"
        },
        "id": "BdAmUr9XnEMT",
        "outputId": "08de2c9f-f0a8-4853-d752-29bead306937"
      },
      "source": [
        "# create a Series who's index is a series of dates\n",
        "# between the two specified dates (inclusive)\n",
        "dates = pd.date_range('2016-04-01', '2016-04-06')\n",
        "dates"
      ],
      "execution_count": 10,
      "outputs": [
        {
          "output_type": "execute_result",
          "data": {
            "text/plain": [
              "DatetimeIndex(['2016-04-01', '2016-04-02', '2016-04-03', '2016-04-04',\n",
              "               '2016-04-05', '2016-04-06'],\n",
              "              dtype='datetime64[ns]', freq='D')"
            ]
          },
          "metadata": {
            "tags": []
          },
          "execution_count": 10
        }
      ]
    },
    {
      "cell_type": "code",
      "metadata": {
        "colab": {
          "base_uri": "https://localhost:8080/"
        },
        "id": "sf9g1o2fnEMT",
        "outputId": "c29bb5d5-c4e1-4670-d2e2-1225f80cf992"
      },
      "source": [
        "# create a Series with values (representing temperatures)\n",
        "# for each date in the index\n",
        "temps1 = pd.Series([80, 82, 85, 90, 83, 87], \n",
        "                   index = dates)\n",
        "temps1"
      ],
      "execution_count": 11,
      "outputs": [
        {
          "output_type": "execute_result",
          "data": {
            "text/plain": [
              "2016-04-01    80\n",
              "2016-04-02    82\n",
              "2016-04-03    85\n",
              "2016-04-04    90\n",
              "2016-04-05    83\n",
              "2016-04-06    87\n",
              "Freq: D, dtype: int64"
            ]
          },
          "metadata": {
            "tags": []
          },
          "execution_count": 11
        }
      ]
    },
    {
      "cell_type": "code",
      "metadata": {
        "colab": {
          "base_uri": "https://localhost:8080/"
        },
        "id": "jvRPD1MMnEMU",
        "outputId": "b86528dd-0efe-43c6-f604-6395bb2a3928"
      },
      "source": [
        "# what's the temperation for 2016-4-4?\n",
        "temps1['2016-04-04']"
      ],
      "execution_count": 12,
      "outputs": [
        {
          "output_type": "execute_result",
          "data": {
            "text/plain": [
              "90"
            ]
          },
          "metadata": {
            "tags": []
          },
          "execution_count": 12
        }
      ]
    },
    {
      "cell_type": "code",
      "metadata": {
        "colab": {
          "base_uri": "https://localhost:8080/"
        },
        "id": "87MfRvJRnEMU",
        "outputId": "ea13d97d-3e54-4c61-c726-f2f9f1836d60"
      },
      "source": [
        "# create a second series of values using the same index\n",
        "temps2 = pd.Series([70, 75, 69, 83, 79, 77], \n",
        "                   index = dates)\n",
        "# the following aligns the two by their index values\n",
        "# and calculates the difference at those matching labels\n",
        "temp_diffs = temps1 - temps2\n",
        "temp_diffs"
      ],
      "execution_count": 13,
      "outputs": [
        {
          "output_type": "execute_result",
          "data": {
            "text/plain": [
              "2016-04-01    10\n",
              "2016-04-02     7\n",
              "2016-04-03    16\n",
              "2016-04-04     7\n",
              "2016-04-05     4\n",
              "2016-04-06    10\n",
              "Freq: D, dtype: int64"
            ]
          },
          "metadata": {
            "tags": []
          },
          "execution_count": 13
        }
      ]
    },
    {
      "cell_type": "code",
      "metadata": {
        "colab": {
          "base_uri": "https://localhost:8080/"
        },
        "id": "JyfIFhP3nEMU",
        "outputId": "95854c25-3909-4549-bf49-25943127309f"
      },
      "source": [
        "# and also possible by integer position as if the \n",
        "# series was an array\n",
        "temp_diffs[2]"
      ],
      "execution_count": 14,
      "outputs": [
        {
          "output_type": "execute_result",
          "data": {
            "text/plain": [
              "16"
            ]
          },
          "metadata": {
            "tags": []
          },
          "execution_count": 14
        }
      ]
    },
    {
      "cell_type": "code",
      "metadata": {
        "colab": {
          "base_uri": "https://localhost:8080/"
        },
        "id": "YkQZ4XognEMV",
        "outputId": "91c488a2-9d83-4e90-aaa9-2f8748b28813"
      },
      "source": [
        "# calculate the mean of the values in the Series\n",
        "temp_diffs.mean()"
      ],
      "execution_count": 15,
      "outputs": [
        {
          "output_type": "execute_result",
          "data": {
            "text/plain": [
              "9.0"
            ]
          },
          "metadata": {
            "tags": []
          },
          "execution_count": 15
        }
      ]
    },
    {
      "cell_type": "markdown",
      "metadata": {
        "collapsed": true,
        "id": "jVodoSr5nEMV"
      },
      "source": [
        "# The pandas DataFrame"
      ]
    },
    {
      "cell_type": "code",
      "metadata": {
        "colab": {
          "base_uri": "https://localhost:8080/"
        },
        "id": "kt-bxYz2nEMV",
        "outputId": "e576822d-5e90-4dcd-b1d0-846a3e05d638"
      },
      "source": [
        "# create a DataFrame from the two series objects temp1 and temp2\n",
        "# and give them column names\n",
        "temps_df = pd.DataFrame(\n",
        "            {'Missoula': temps1, \n",
        "             'Philadelphia': temps2})\n",
        "temps_df"
      ],
      "execution_count": 17,
      "outputs": [
        {
          "output_type": "execute_result",
          "data": {
            "text/plain": [
              "            Missoula  Philadelphia\n",
              "2016-04-01        80            70\n",
              "2016-04-02        82            75\n",
              "2016-04-03        85            69\n",
              "2016-04-04        90            83\n",
              "2016-04-05        83            79\n",
              "2016-04-06        87            77"
            ]
          },
          "metadata": {
            "tags": []
          },
          "execution_count": 17
        }
      ]
    },
    {
      "cell_type": "code",
      "metadata": {
        "colab": {
          "base_uri": "https://localhost:8080/"
        },
        "id": "2YMjAUM3nEMV",
        "outputId": "1e9a313e-503b-485d-dd0a-0041720417ec"
      },
      "source": [
        "# get the column with the name Missoula\n",
        "temps_df['Missoula']"
      ],
      "execution_count": 18,
      "outputs": [
        {
          "output_type": "execute_result",
          "data": {
            "text/plain": [
              "2016-04-01    80\n",
              "2016-04-02    82\n",
              "2016-04-03    85\n",
              "2016-04-04    90\n",
              "2016-04-05    83\n",
              "2016-04-06    87\n",
              "Freq: D, Name: Missoula, dtype: int64"
            ]
          },
          "metadata": {
            "tags": []
          },
          "execution_count": 18
        }
      ]
    },
    {
      "cell_type": "code",
      "metadata": {
        "colab": {
          "base_uri": "https://localhost:8080/"
        },
        "id": "x8jVQzutnEMW",
        "outputId": "b2251f2a-f8fd-47d7-a74a-2f83c618dd39"
      },
      "source": [
        "# likewise we can get just the Philadelphia column\n",
        "temps_df['Philadelphia']"
      ],
      "execution_count": 19,
      "outputs": [
        {
          "output_type": "execute_result",
          "data": {
            "text/plain": [
              "2016-04-01    70\n",
              "2016-04-02    75\n",
              "2016-04-03    69\n",
              "2016-04-04    83\n",
              "2016-04-05    79\n",
              "2016-04-06    77\n",
              "Freq: D, Name: Philadelphia, dtype: int64"
            ]
          },
          "metadata": {
            "tags": []
          },
          "execution_count": 19
        }
      ]
    },
    {
      "cell_type": "code",
      "metadata": {
        "colab": {
          "base_uri": "https://localhost:8080/"
        },
        "id": "4qKC57gcnEMW",
        "outputId": "a8781668-8d2c-4388-dfb2-90e80d978a3b"
      },
      "source": [
        "# return both columns in a different order\n",
        "temps_df[['Philadelphia', 'Missoula']]"
      ],
      "execution_count": 20,
      "outputs": [
        {
          "output_type": "execute_result",
          "data": {
            "text/plain": [
              "            Philadelphia  Missoula\n",
              "2016-04-01            70        80\n",
              "2016-04-02            75        82\n",
              "2016-04-03            69        85\n",
              "2016-04-04            83        90\n",
              "2016-04-05            79        83\n",
              "2016-04-06            77        87"
            ]
          },
          "metadata": {
            "tags": []
          },
          "execution_count": 20
        }
      ]
    },
    {
      "cell_type": "code",
      "metadata": {
        "colab": {
          "base_uri": "https://localhost:8080/"
        },
        "id": "fK21Ao6inEMW",
        "outputId": "db71cf91-4e65-4bf1-dfaa-48d86688c3bf"
      },
      "source": [
        "# retrieve the Missoula column through property syntax\n",
        "temps_df.Missoula"
      ],
      "execution_count": 21,
      "outputs": [
        {
          "output_type": "execute_result",
          "data": {
            "text/plain": [
              "2016-04-01    80\n",
              "2016-04-02    82\n",
              "2016-04-03    85\n",
              "2016-04-04    90\n",
              "2016-04-05    83\n",
              "2016-04-06    87\n",
              "Freq: D, Name: Missoula, dtype: int64"
            ]
          },
          "metadata": {
            "tags": []
          },
          "execution_count": 21
        }
      ]
    },
    {
      "cell_type": "code",
      "metadata": {
        "colab": {
          "base_uri": "https://localhost:8080/"
        },
        "id": "UwmEI0ZmnEMW",
        "outputId": "fd259623-73c2-484a-acb8-1c2f68d6a62f"
      },
      "source": [
        "# calculate the temperature difference between the two cities\n",
        "temps_df.Missoula - temps_df.Philadelphia"
      ],
      "execution_count": 22,
      "outputs": [
        {
          "output_type": "execute_result",
          "data": {
            "text/plain": [
              "2016-04-01    10\n",
              "2016-04-02     7\n",
              "2016-04-03    16\n",
              "2016-04-04     7\n",
              "2016-04-05     4\n",
              "2016-04-06    10\n",
              "Freq: D, dtype: int64"
            ]
          },
          "metadata": {
            "tags": []
          },
          "execution_count": 22
        }
      ]
    },
    {
      "cell_type": "code",
      "metadata": {
        "colab": {
          "base_uri": "https://localhost:8080/"
        },
        "id": "MlWq3VI3nEMX",
        "outputId": "b3f415b8-3875-4170-f31d-482b11a48ce8"
      },
      "source": [
        "# add a column to temp_df which contains the difference in temps\n",
        "temps_df['Difference'] = temp_diffs\n",
        "temps_df"
      ],
      "execution_count": 23,
      "outputs": [
        {
          "output_type": "execute_result",
          "data": {
            "text/plain": [
              "            Missoula  Philadelphia  Difference\n",
              "2016-04-01        80            70          10\n",
              "2016-04-02        82            75           7\n",
              "2016-04-03        85            69          16\n",
              "2016-04-04        90            83           7\n",
              "2016-04-05        83            79           4\n",
              "2016-04-06        87            77          10"
            ]
          },
          "metadata": {
            "tags": []
          },
          "execution_count": 23
        }
      ]
    },
    {
      "cell_type": "code",
      "metadata": {
        "colab": {
          "base_uri": "https://localhost:8080/"
        },
        "id": "w6GGZy7pnEMX",
        "outputId": "9d04a958-0375-49a6-b504-e173bce1adcc"
      },
      "source": [
        "# get the columns, which is also an Index object\n",
        "temps_df.columns"
      ],
      "execution_count": 24,
      "outputs": [
        {
          "output_type": "execute_result",
          "data": {
            "text/plain": [
              "Index(['Missoula', 'Philadelphia', 'Difference'], dtype='object')"
            ]
          },
          "metadata": {
            "tags": []
          },
          "execution_count": 24
        }
      ]
    },
    {
      "cell_type": "code",
      "metadata": {
        "colab": {
          "base_uri": "https://localhost:8080/"
        },
        "id": "kip4sQh-nEMX",
        "outputId": "27f6be88-f2b2-4dde-e6e7-8ce8095056df"
      },
      "source": [
        "# slice the temp differences column for the rows at \n",
        "# location 1 through 4 (as though it is an array)\n",
        "temps_df.Difference[1:4]"
      ],
      "execution_count": 25,
      "outputs": [
        {
          "output_type": "execute_result",
          "data": {
            "text/plain": [
              "2016-04-02     7\n",
              "2016-04-03    16\n",
              "2016-04-04     7\n",
              "Freq: D, Name: Difference, dtype: int64"
            ]
          },
          "metadata": {
            "tags": []
          },
          "execution_count": 25
        }
      ]
    },
    {
      "cell_type": "code",
      "metadata": {
        "colab": {
          "base_uri": "https://localhost:8080/"
        },
        "id": "AUInmQESnEMX",
        "outputId": "f0952e57-15db-497d-b4f5-98bb1b2a7baa"
      },
      "source": [
        "# get the row at array position 1\n",
        "temps_df.iloc[1]"
      ],
      "execution_count": 26,
      "outputs": [
        {
          "output_type": "execute_result",
          "data": {
            "text/plain": [
              "Missoula        82\n",
              "Philadelphia    75\n",
              "Difference       7\n",
              "Name: 2016-04-02 00:00:00, dtype: int64"
            ]
          },
          "metadata": {
            "tags": []
          },
          "execution_count": 26
        }
      ]
    },
    {
      "cell_type": "code",
      "metadata": {
        "colab": {
          "base_uri": "https://localhost:8080/"
        },
        "id": "3G812dAynEMX",
        "outputId": "89cf5806-d8a0-4615-8b0b-65278cad2b53"
      },
      "source": [
        "# the names of the columns have become the index\n",
        "# they have been 'pivoted'\n",
        "temps_df.iloc[1].index"
      ],
      "execution_count": 27,
      "outputs": [
        {
          "output_type": "execute_result",
          "data": {
            "text/plain": [
              "Index(['Missoula', 'Philadelphia', 'Difference'], dtype='object')"
            ]
          },
          "metadata": {
            "tags": []
          },
          "execution_count": 27
        }
      ]
    },
    {
      "cell_type": "code",
      "metadata": {
        "colab": {
          "base_uri": "https://localhost:8080/"
        },
        "id": "YLrK_RHvnEMY",
        "outputId": "c87d7276-1690-46b4-ece5-ae9969b241e7"
      },
      "source": [
        "# retrieve row by index label using .loc\n",
        "temps_df.loc['2016-04-05']"
      ],
      "execution_count": 28,
      "outputs": [
        {
          "output_type": "execute_result",
          "data": {
            "text/plain": [
              "Missoula        83\n",
              "Philadelphia    79\n",
              "Difference       4\n",
              "Name: 2016-04-05 00:00:00, dtype: int64"
            ]
          },
          "metadata": {
            "tags": []
          },
          "execution_count": 28
        }
      ]
    },
    {
      "cell_type": "code",
      "metadata": {
        "id": "FX9K9aFtnEMY",
        "outputId": "104583df-e272-45bc-ada6-2fb808cb61cd"
      },
      "source": [
        "# get the values in the Differences column in tows 1, 3 and 5\n",
        "# using 0-based location\n",
        "temps_df.iloc[[1, 3, 5]].Difference"
      ],
      "execution_count": null,
      "outputs": [
        {
          "output_type": "execute_result",
          "data": {
            "text/plain": [
              "2016-04-02     7\n",
              "2016-04-04     7\n",
              "2016-04-06    10\n",
              "Freq: 2D, Name: Difference, dtype: int64"
            ]
          },
          "metadata": {
            "tags": []
          },
          "execution_count": 27
        }
      ]
    },
    {
      "cell_type": "code",
      "metadata": {
        "id": "eQVv_f7Bryf8"
      },
      "source": [
        ""
      ],
      "execution_count": 30,
      "outputs": []
    },
    {
      "cell_type": "code",
      "metadata": {
        "colab": {
          "base_uri": "https://localhost:8080/"
        },
        "id": "yhZCeZnAru-8",
        "outputId": "938e3cca-5d26-4f49-cf73-12da18ba0f54"
      },
      "source": [
        "temps_df.iloc[[1, 3, 5]]"
      ],
      "execution_count": 31,
      "outputs": [
        {
          "output_type": "execute_result",
          "data": {
            "text/plain": [
              "            Missoula  Philadelphia  Difference\n",
              "2016-04-02        82            75           7\n",
              "2016-04-04        90            83           7\n",
              "2016-04-06        87            77          10"
            ]
          },
          "metadata": {
            "tags": []
          },
          "execution_count": 31
        }
      ]
    },
    {
      "cell_type": "code",
      "metadata": {
        "colab": {
          "base_uri": "https://localhost:8080/"
        },
        "id": "_FQR1eWvnEMY",
        "outputId": "11a5f98f-c9ae-4460-b01c-5764f452cd0d"
      },
      "source": [
        "# which values in the Missoula column are > 82?\n",
        "temps_df.Missoula > 82"
      ],
      "execution_count": 32,
      "outputs": [
        {
          "output_type": "execute_result",
          "data": {
            "text/plain": [
              "2016-04-01    False\n",
              "2016-04-02    False\n",
              "2016-04-03     True\n",
              "2016-04-04     True\n",
              "2016-04-05     True\n",
              "2016-04-06     True\n",
              "Freq: D, Name: Missoula, dtype: bool"
            ]
          },
          "metadata": {
            "tags": []
          },
          "execution_count": 32
        }
      ]
    },
    {
      "cell_type": "code",
      "metadata": {
        "colab": {
          "base_uri": "https://localhost:8080/"
        },
        "id": "eCqFa8hunEMZ",
        "outputId": "48beb26a-13ba-4007-84ad-d2114c452f24"
      },
      "source": [
        "# return the rows where the temps for Missoula > 82\n",
        "temps_df[temps_df.Missoula > 82]"
      ],
      "execution_count": 33,
      "outputs": [
        {
          "output_type": "execute_result",
          "data": {
            "text/plain": [
              "            Missoula  Philadelphia  Difference\n",
              "2016-04-03        85            69          16\n",
              "2016-04-04        90            83           7\n",
              "2016-04-05        83            79           4\n",
              "2016-04-06        87            77          10"
            ]
          },
          "metadata": {
            "tags": []
          },
          "execution_count": 33
        }
      ]
    },
    {
      "cell_type": "markdown",
      "metadata": {
        "id": "EJP-juRRnEMZ"
      },
      "source": [
        "# Loading data from a CSV file into a DataFrame"
      ]
    },
    {
      "cell_type": "code",
      "metadata": {
        "colab": {
          "base_uri": "https://localhost:8080/"
        },
        "id": "fRIG0hGnsruE",
        "outputId": "69f6a374-e58c-4151-c0b2-57c760521da5"
      },
      "source": [
        "import os\r\n",
        "print(os.getcwd())"
      ],
      "execution_count": 42,
      "outputs": [
        {
          "output_type": "stream",
          "text": [
            "/content\n"
          ],
          "name": "stdout"
        }
      ]
    },
    {
      "cell_type": "code",
      "metadata": {
        "id": "uUFD_Gvrtnm2"
      },
      "source": [
        ""
      ],
      "execution_count": 53,
      "outputs": []
    },
    {
      "cell_type": "code",
      "metadata": {
        "colab": {
          "base_uri": "https://localhost:8080/"
        },
        "id": "oITv9wt5txe8",
        "outputId": "2ff45140-f46a-48d7-f61e-f56730d9dbaa"
      },
      "source": [
        "!git clone https://github.com/jiayou60/Learning-Pandas-Second-Edition.git\r\n"
      ],
      "execution_count": 54,
      "outputs": [
        {
          "output_type": "stream",
          "text": [
            "Cloning into 'Learning-Pandas-Second-Edition'...\n",
            "remote: Enumerating objects: 8, done.\u001b[K\n",
            "remote: Counting objects:  12% (1/8)\u001b[K\rremote: Counting objects:  25% (2/8)\u001b[K\rremote: Counting objects:  37% (3/8)\u001b[K\rremote: Counting objects:  50% (4/8)\u001b[K\rremote: Counting objects:  62% (5/8)\u001b[K\rremote: Counting objects:  75% (6/8)\u001b[K\rremote: Counting objects:  87% (7/8)\u001b[K\rremote: Counting objects: 100% (8/8)\u001b[K\rremote: Counting objects: 100% (8/8), done.\u001b[K\n",
            "remote: Compressing objects: 100% (8/8), done.\u001b[K\n",
            "remote: Total 76 (delta 1), reused 0 (delta 0), pack-reused 68\u001b[K\n",
            "Unpacking objects: 100% (76/76), done.\n"
          ],
          "name": "stdout"
        }
      ]
    },
    {
      "cell_type": "code",
      "metadata": {
        "id": "kchcMuVKwh7h"
      },
      "source": [
        "os.chdir(\"Learning-Pandas-Second-Edition\")"
      ],
      "execution_count": 55,
      "outputs": []
    },
    {
      "cell_type": "code",
      "metadata": {
        "id": "UxrFdueWtIrv"
      },
      "source": [
        ""
      ],
      "execution_count": null,
      "outputs": []
    },
    {
      "cell_type": "code",
      "metadata": {
        "colab": {
          "base_uri": "https://localhost:8080/"
        },
        "id": "YuxrfdEHnEMZ",
        "outputId": "736f1f25-0a3c-4cc6-a4ee-91cccf3a7fa0"
      },
      "source": [
        "# display the contents of test1.csv\n",
        "# which command to use depends on your OS\n",
        "!head data/goog.csv # on non-windows systems\n",
        "!type data/test1.csv # on windows systems, all lines"
      ],
      "execution_count": 57,
      "outputs": [
        {
          "output_type": "stream",
          "text": [
            "Date,Open,High,Low,Close,Volume\n",
            "12/19/2016,790.219971,797.659973,786.27002,794.200012,1225900\n",
            "12/20/2016,796.76001,798.650024,793.27002,796.419983,925100\n",
            "12/21/2016,795.840027,796.676025,787.099976,794.559998,1208700\n",
            "12/22/2016,792.359985,793.320007,788.580017,791.26001,969100\n",
            "12/23/2016,790.900024,792.73999,787.280029,789.909973,623400\n",
            "12/27/2016,790.679993,797.859985,787.656982,791.549988,789100\n",
            "12/28/2016,793.700012,794.22998,783.200012,785.049988,1132700\n",
            "12/29/2016,783.330017,785.929993,778.919983,782.789978,742200\n",
            "12/30/2016,782.75,782.780029,770.409973,771.820007,1760200\n",
            "/bin/bash: line 0: type: data/test1.csv: not found\n"
          ],
          "name": "stdout"
        }
      ]
    },
    {
      "cell_type": "code",
      "metadata": {
        "id": "F5A_GFwewLSY"
      },
      "source": [
        ""
      ],
      "execution_count": 57,
      "outputs": []
    },
    {
      "cell_type": "code",
      "metadata": {
        "id": "c-tVXwK4v64Z"
      },
      "source": [
        ""
      ],
      "execution_count": null,
      "outputs": []
    },
    {
      "cell_type": "code",
      "metadata": {
        "colab": {
          "base_uri": "https://localhost:8080/"
        },
        "id": "Q28DjtmMnEMZ",
        "outputId": "79c90a27-7e8e-4b75-8821-33a274266f45"
      },
      "source": [
        "# read the contents of the file into a DataFrame\n",
        "df = pd.read_csv('data/goog.csv')\n",
        "df"
      ],
      "execution_count": 58,
      "outputs": [
        {
          "output_type": "execute_result",
          "data": {
            "text/plain": [
              "          Date        Open        High         Low       Close   Volume\n",
              "0   12/19/2016  790.219971  797.659973  786.270020  794.200012  1225900\n",
              "1   12/20/2016  796.760010  798.650024  793.270020  796.419983   925100\n",
              "2   12/21/2016  795.840027  796.676025  787.099976  794.559998  1208700\n",
              "3   12/22/2016  792.359985  793.320007  788.580017  791.260010   969100\n",
              "4   12/23/2016  790.900024  792.739990  787.280029  789.909973   623400\n",
              "..         ...         ...         ...         ...         ...      ...\n",
              "56   3/13/2017  844.000000  848.684998  843.250000  845.539978  1149500\n",
              "57   3/14/2017  843.640015  847.239990  840.799988  845.619995   779900\n",
              "58   3/15/2017  847.590027  848.630005  840.770020  847.200012  1379600\n",
              "59   3/16/2017  849.030029  850.849976  846.130005  848.780029   970400\n",
              "60   3/17/2017  851.609985  853.400024  847.109985  852.119995  1712300\n",
              "\n",
              "[61 rows x 6 columns]"
            ]
          },
          "metadata": {
            "tags": []
          },
          "execution_count": 58
        }
      ]
    },
    {
      "cell_type": "code",
      "metadata": {
        "colab": {
          "base_uri": "https://localhost:8080/"
        },
        "id": "wyrzsm0anEMa",
        "outputId": "7b7a8cea-23eb-4f07-9838-0dd0edb44833"
      },
      "source": [
        "# the contents of the date column\n",
        "df.Date"
      ],
      "execution_count": 59,
      "outputs": [
        {
          "output_type": "execute_result",
          "data": {
            "text/plain": [
              "0     12/19/2016\n",
              "1     12/20/2016\n",
              "2     12/21/2016\n",
              "3     12/22/2016\n",
              "4     12/23/2016\n",
              "         ...    \n",
              "56     3/13/2017\n",
              "57     3/14/2017\n",
              "58     3/15/2017\n",
              "59     3/16/2017\n",
              "60     3/17/2017\n",
              "Name: Date, Length: 61, dtype: object"
            ]
          },
          "metadata": {
            "tags": []
          },
          "execution_count": 59
        }
      ]
    },
    {
      "cell_type": "code",
      "metadata": {
        "colab": {
          "base_uri": "https://localhost:8080/",
          "height": 37
        },
        "id": "UEHZVCJmnEMa",
        "outputId": "be42abcf-06dd-4ebb-95ca-0e247cf8bff1"
      },
      "source": [
        "# we can get the first value in the date column\n",
        "df.Date[0]"
      ],
      "execution_count": 60,
      "outputs": [
        {
          "output_type": "execute_result",
          "data": {
            "application/vnd.google.colaboratory.intrinsic+json": {
              "type": "string"
            },
            "text/plain": [
              "'12/19/2016'"
            ]
          },
          "metadata": {
            "tags": []
          },
          "execution_count": 60
        }
      ]
    },
    {
      "cell_type": "code",
      "metadata": {
        "colab": {
          "base_uri": "https://localhost:8080/"
        },
        "id": "xwTdmAq6nEMa",
        "outputId": "76769757-6ad4-4451-83a0-1d9ef85704df"
      },
      "source": [
        "# it is a string\n",
        "type(df.Date[0])"
      ],
      "execution_count": 61,
      "outputs": [
        {
          "output_type": "execute_result",
          "data": {
            "text/plain": [
              "str"
            ]
          },
          "metadata": {
            "tags": []
          },
          "execution_count": 61
        }
      ]
    },
    {
      "cell_type": "code",
      "metadata": {
        "colab": {
          "base_uri": "https://localhost:8080/"
        },
        "id": "LoeugZHpnEMa",
        "outputId": "4549f8af-f5ab-498b-bab6-3d25d3ef247b"
      },
      "source": [
        "# read the data and tell pandas the date column should be \n",
        "# a date in the resulting DataFrame\n",
        "df = pd.read_csv('data/goog.csv', parse_dates=['Date'])\n",
        "df"
      ],
      "execution_count": 62,
      "outputs": [
        {
          "output_type": "execute_result",
          "data": {
            "text/plain": [
              "         Date        Open        High         Low       Close   Volume\n",
              "0  2016-12-19  790.219971  797.659973  786.270020  794.200012  1225900\n",
              "1  2016-12-20  796.760010  798.650024  793.270020  796.419983   925100\n",
              "2  2016-12-21  795.840027  796.676025  787.099976  794.559998  1208700\n",
              "3  2016-12-22  792.359985  793.320007  788.580017  791.260010   969100\n",
              "4  2016-12-23  790.900024  792.739990  787.280029  789.909973   623400\n",
              "..        ...         ...         ...         ...         ...      ...\n",
              "56 2017-03-13  844.000000  848.684998  843.250000  845.539978  1149500\n",
              "57 2017-03-14  843.640015  847.239990  840.799988  845.619995   779900\n",
              "58 2017-03-15  847.590027  848.630005  840.770020  847.200012  1379600\n",
              "59 2017-03-16  849.030029  850.849976  846.130005  848.780029   970400\n",
              "60 2017-03-17  851.609985  853.400024  847.109985  852.119995  1712300\n",
              "\n",
              "[61 rows x 6 columns]"
            ]
          },
          "metadata": {
            "tags": []
          },
          "execution_count": 62
        }
      ]
    },
    {
      "cell_type": "code",
      "metadata": {
        "id": "Si4VhKMcnEMa",
        "outputId": "16f3ae0e-3344-4e91-85a8-aec4a7f4fd54"
      },
      "source": [
        "# verify the type now is date\n",
        "# in pandas, this is actually a Timestamp\n",
        "type(df.Date[0])\n",
        "#pandas._libs.tslib.Timestamp  \".Timestamp\"表已順利轉為時間"
      ],
      "execution_count": null,
      "outputs": [
        {
          "output_type": "execute_result",
          "data": {
            "text/plain": [
              "pandas._libs.tslib.Timestamp"
            ]
          },
          "metadata": {
            "tags": []
          },
          "execution_count": 36
        }
      ]
    },
    {
      "cell_type": "code",
      "metadata": {
        "colab": {
          "base_uri": "https://localhost:8080/"
        },
        "id": "tfwHbAyknEMb",
        "outputId": "00c34eff-d7e7-49aa-8860-5ac9516c383c"
      },
      "source": [
        "# unfortunately the index is numeric which makes\n",
        "# accessing data by date more complicated\n",
        "df.index"
      ],
      "execution_count": 63,
      "outputs": [
        {
          "output_type": "execute_result",
          "data": {
            "text/plain": [
              "RangeIndex(start=0, stop=61, step=1)"
            ]
          },
          "metadata": {
            "tags": []
          },
          "execution_count": 63
        }
      ]
    },
    {
      "cell_type": "code",
      "metadata": {
        "colab": {
          "base_uri": "https://localhost:8080/"
        },
        "id": "X8gG38M7nEMb",
        "outputId": "b859f6d6-d8cb-4285-c00b-8e98b54a9eee"
      },
      "source": [
        "# read in again, now specity the data column as being the \n",
        "# index of the resulting DataFrame\n",
        "df = pd.read_csv('data/goog.csv', \n",
        "                 parse_dates=['Date'], \n",
        "                 index_col='Date')\n",
        "df"
      ],
      "execution_count": 64,
      "outputs": [
        {
          "output_type": "execute_result",
          "data": {
            "text/plain": [
              "                  Open        High         Low       Close   Volume\n",
              "Date                                                               \n",
              "2016-12-19  790.219971  797.659973  786.270020  794.200012  1225900\n",
              "2016-12-20  796.760010  798.650024  793.270020  796.419983   925100\n",
              "2016-12-21  795.840027  796.676025  787.099976  794.559998  1208700\n",
              "2016-12-22  792.359985  793.320007  788.580017  791.260010   969100\n",
              "2016-12-23  790.900024  792.739990  787.280029  789.909973   623400\n",
              "...                ...         ...         ...         ...      ...\n",
              "2017-03-13  844.000000  848.684998  843.250000  845.539978  1149500\n",
              "2017-03-14  843.640015  847.239990  840.799988  845.619995   779900\n",
              "2017-03-15  847.590027  848.630005  840.770020  847.200012  1379600\n",
              "2017-03-16  849.030029  850.849976  846.130005  848.780029   970400\n",
              "2017-03-17  851.609985  853.400024  847.109985  852.119995  1712300\n",
              "\n",
              "[61 rows x 5 columns]"
            ]
          },
          "metadata": {
            "tags": []
          },
          "execution_count": 64
        }
      ]
    },
    {
      "cell_type": "code",
      "metadata": {
        "colab": {
          "base_uri": "https://localhost:8080/"
        },
        "id": "cVw8lAxBnEMb",
        "outputId": "d2b1800c-a60f-4c14-c06d-eb2f011d7e10"
      },
      "source": [
        "# and the index is now a DatetimeIndex\n",
        "df.index"
      ],
      "execution_count": 65,
      "outputs": [
        {
          "output_type": "execute_result",
          "data": {
            "text/plain": [
              "DatetimeIndex(['2016-12-19', '2016-12-20', '2016-12-21', '2016-12-22',\n",
              "               '2016-12-23', '2016-12-27', '2016-12-28', '2016-12-29',\n",
              "               '2016-12-30', '2017-01-03', '2017-01-04', '2017-01-05',\n",
              "               '2017-01-06', '2017-01-09', '2017-01-10', '2017-01-11',\n",
              "               '2017-01-12', '2017-01-13', '2017-01-17', '2017-01-18',\n",
              "               '2017-01-19', '2017-01-20', '2017-01-23', '2017-01-24',\n",
              "               '2017-01-25', '2017-01-26', '2017-01-27', '2017-01-30',\n",
              "               '2017-01-31', '2017-02-01', '2017-02-02', '2017-02-03',\n",
              "               '2017-02-06', '2017-02-07', '2017-02-08', '2017-02-09',\n",
              "               '2017-02-10', '2017-02-13', '2017-02-14', '2017-02-15',\n",
              "               '2017-02-16', '2017-02-17', '2017-02-21', '2017-02-22',\n",
              "               '2017-02-23', '2017-02-24', '2017-02-27', '2017-02-28',\n",
              "               '2017-03-01', '2017-03-02', '2017-03-03', '2017-03-06',\n",
              "               '2017-03-07', '2017-03-08', '2017-03-09', '2017-03-10',\n",
              "               '2017-03-13', '2017-03-14', '2017-03-15', '2017-03-16',\n",
              "               '2017-03-17'],\n",
              "              dtype='datetime64[ns]', name='Date', freq=None)"
            ]
          },
          "metadata": {
            "tags": []
          },
          "execution_count": 65
        }
      ]
    },
    {
      "cell_type": "markdown",
      "metadata": {
        "id": "7w2x4TBunEMb"
      },
      "source": [
        "# Visualization"
      ]
    },
    {
      "cell_type": "code",
      "metadata": {
        "colab": {
          "base_uri": "https://localhost:8080/",
          "height": 285
        },
        "id": "yXGIFjXrnEMc",
        "outputId": "ef5eb264-43d5-40b8-b80c-046753833c23"
      },
      "source": [
        "# plots the values in the Close column\n",
        "df.Close.plot();"
      ],
      "execution_count": 66,
      "outputs": [
        {
          "output_type": "display_data",
          "data": {
            "image/png": "[encoded data removed]",
            "text/plain": [
              "<Figure size 432x288 with 1 Axes>"
            ]
          },
          "metadata": {
            "tags": [],
            "needs_background": "light"
          }
        }
      ]
    }
  ]
}